{
 "cells": [
  {
   "cell_type": "markdown",
   "metadata": {},
   "source": [
    "# GIS Map Survey\n",
    "Благодарим Вас за то, что Вы согласились ответить на несколько вопросов. Ваши ответы помогут уточнить географию участников Международной студенческой площадки «UNI4CITY» и детализировать представления о студенческой жизни в г. Томске.\n",
    "\n",
    "_Thank you for participating in this survey. Please, take a moment to answer a few questions. Your answers will help us gather some geographical information of participants in the International Student Event UNI4CITY and have more details about student life in Tomsk._"
   ]
  },
  {
   "cell_type": "code",
   "execution_count": 1,
   "metadata": {
    "ExecuteTime": {
     "end_time": "2019-11-26T06:08:14.688528Z",
     "start_time": "2019-11-26T06:08:13.053718Z"
    },
    "scrolled": false
   },
   "outputs": [
    {
     "data": {
      "application/vnd.jupyter.widget-view+json": {
       "model_id": "ed4f006822304b569b35093a36776c50",
       "version_major": 2,
       "version_minor": 0
      },
      "text/plain": [
       "HTML(value='<b>1. Ваш пол?</b> / <i>What is your sex?</i>')"
      ]
     },
     "metadata": {},
     "output_type": "display_data"
    },
    {
     "data": {
      "application/vnd.jupyter.widget-view+json": {
       "model_id": "d0654977b90549a29f6e1e9398e1f9a9",
       "version_major": 2,
       "version_minor": 0
      },
      "text/plain": [
       "RadioButtons(index=3, layout=Layout(width='initial'), options=('Мужской / Male', 'Женский / Female', 'Другой /…"
      ]
     },
     "metadata": {},
     "output_type": "display_data"
    },
    {
     "data": {
      "application/vnd.jupyter.widget-view+json": {
       "model_id": "45cf12d031a54330a131dcd4f6ef7fe0",
       "version_major": 2,
       "version_minor": 0
      },
      "text/plain": [
       "HTML(value='<b>2. Ваш возраст?</b> / <i>What is your age?</i>')"
      ]
     },
     "metadata": {},
     "output_type": "display_data"
    },
    {
     "data": {
      "application/vnd.jupyter.widget-view+json": {
       "model_id": "60a5cd3f82814a059a46c46523b25152",
       "version_major": 2,
       "version_minor": 0
      },
      "text/plain": [
       "Dropdown(options=('Затрудняюсь ответить / No answer', 13, 14, 15, 16, 17, 18, 19, 20, 21, 22, 23, 24, 25, 26, …"
      ]
     },
     "metadata": {},
     "output_type": "display_data"
    },
    {
     "data": {
      "application/vnd.jupyter.widget-view+json": {
       "model_id": "ab0675793cbd40ac8075ef307d74bc6d",
       "version_major": 2,
       "version_minor": 0
      },
      "text/plain": [
       "HTML(value='<b>3. Вы иностранный студент или студент из России?</b> / <i>Are you a foreign student or a Russia…"
      ]
     },
     "metadata": {},
     "output_type": "display_data"
    },
    {
     "data": {
      "application/vnd.jupyter.widget-view+json": {
       "model_id": "7eb7cf1fe86e42aebd572a5f350ea225",
       "version_major": 2,
       "version_minor": 0
      },
      "text/plain": [
       "RadioButtons(index=2, layout=Layout(width='initial'), options=('Иностранный / Foreign', 'Из России / Russian',…"
      ]
     },
     "metadata": {},
     "output_type": "display_data"
    },
    {
     "data": {
      "application/vnd.jupyter.widget-view+json": {
       "model_id": "f88828fddd184fd9a07eeab2bfbf33b1",
       "version_major": 2,
       "version_minor": 0
      },
      "text/plain": [
       "HTML(value='<b>4. Если Вы иностранный студент, из какой страны Вы приехали?</b> / <i>If you are a foreign stud…"
      ]
     },
     "metadata": {},
     "output_type": "display_data"
    },
    {
     "data": {
      "application/vnd.jupyter.widget-view+json": {
       "model_id": "2dd3e4dc977e4379ac40633ac893174a",
       "version_major": 2,
       "version_minor": 0
      },
      "text/plain": [
       "Text(value='', description='Ответ / Answer:', style=DescriptionStyle(description_width='initial'))"
      ]
     },
     "metadata": {},
     "output_type": "display_data"
    },
    {
     "data": {
      "application/vnd.jupyter.widget-view+json": {
       "model_id": "6791694f5cd04de9bf0c84fb5497d210",
       "version_major": 2,
       "version_minor": 0
      },
      "text/plain": [
       "HTML(value='<b>5. Где Вы проводите большую часть своего свободного времени в Томске? (Нажмите на карту, чтобы …"
      ]
     },
     "metadata": {},
     "output_type": "display_data"
    },
    {
     "data": {
      "application/vnd.jupyter.widget-view+json": {
       "model_id": "adc19a67f570447aabf1907d1bc32a9c",
       "version_major": 2,
       "version_minor": 0
      },
      "text/plain": [
       "Map(basemap={'url': 'https://{s}.tile.openstreetmap.org/{z}/{x}/{y}.png', 'max_zoom': 19, 'attribution': 'Map …"
      ]
     },
     "metadata": {},
     "output_type": "display_data"
    },
    {
     "data": {
      "application/vnd.jupyter.widget-view+json": {
       "model_id": "3f618a78a15e4943b32745cfe1a6d7a4",
       "version_major": 2,
       "version_minor": 0
      },
      "text/plain": [
       "HTML(value='<i>Маркер не установлен / No marker set</i>')"
      ]
     },
     "metadata": {},
     "output_type": "display_data"
    },
    {
     "data": {
      "application/vnd.jupyter.widget-view+json": {
       "model_id": "a3d226411331421db23e67bc6eb51e7e",
       "version_major": 2,
       "version_minor": 0
      },
      "text/plain": [
       "HTML(value='<b>6. Пожалуйста, кратко опишите выбранное Вами пространство на карте (общежитие, квартира, парк, …"
      ]
     },
     "metadata": {},
     "output_type": "display_data"
    },
    {
     "data": {
      "application/vnd.jupyter.widget-view+json": {
       "model_id": "67cf5ae408384c7d87a786f76f6c3852",
       "version_major": 2,
       "version_minor": 0
      },
      "text/plain": [
       "Text(value='', description='Ответ / Answer:', style=DescriptionStyle(description_width='initial'))"
      ]
     },
     "metadata": {},
     "output_type": "display_data"
    },
    {
     "data": {
      "application/vnd.jupyter.widget-view+json": {
       "model_id": "d715e6eee00a44f9bbaee4982a979e67",
       "version_major": 2,
       "version_minor": 0
      },
      "text/plain": [
       "HTML(value='<b>7. Что Вы чаще всего делаете в указанным место?</b> / <i>What do you usually do in the place yo…"
      ]
     },
     "metadata": {},
     "output_type": "display_data"
    },
    {
     "data": {
      "application/vnd.jupyter.widget-view+json": {
       "model_id": "1cab5542a0544aa6a57a993912fb9aa2",
       "version_major": 2,
       "version_minor": 0
      },
      "text/plain": [
       "Text(value='', description='Ответ / Answer:', style=DescriptionStyle(description_width='initial'))"
      ]
     },
     "metadata": {},
     "output_type": "display_data"
    },
    {
     "data": {
      "application/vnd.jupyter.widget-view+json": {
       "model_id": "66da7ae589b74ca793db6b981a0eb17a",
       "version_major": 2,
       "version_minor": 0
      },
      "text/plain": [
       "HTML(value='<b>8. Где вы чаще всего готовитесь к занятиям (лекциям, семинарам, лабораториям)? (Нажмите на карт…"
      ]
     },
     "metadata": {},
     "output_type": "display_data"
    },
    {
     "data": {
      "application/vnd.jupyter.widget-view+json": {
       "model_id": "7f4f4c226f9441c59b671a8c9839d3bf",
       "version_major": 2,
       "version_minor": 0
      },
      "text/plain": [
       "Map(basemap={'url': 'https://{s}.tile.openstreetmap.org/{z}/{x}/{y}.png', 'max_zoom': 19, 'attribution': 'Map …"
      ]
     },
     "metadata": {},
     "output_type": "display_data"
    },
    {
     "data": {
      "application/vnd.jupyter.widget-view+json": {
       "model_id": "454c1be435984f1e8208a53a4ae96c46",
       "version_major": 2,
       "version_minor": 0
      },
      "text/plain": [
       "HTML(value='<i>Маркер не установлен / No marker set</i>')"
      ]
     },
     "metadata": {},
     "output_type": "display_data"
    },
    {
     "data": {
      "application/vnd.jupyter.widget-view+json": {
       "model_id": "6efaa700f5174451a7d4220578a91b5c",
       "version_major": 2,
       "version_minor": 0
      },
      "text/plain": [
       "HTML(value='<b>9. Пожалуйста, кратко опишите выбранное Вами пространство на карте.</b> / <i>Please write a bri…"
      ]
     },
     "metadata": {},
     "output_type": "display_data"
    },
    {
     "data": {
      "application/vnd.jupyter.widget-view+json": {
       "model_id": "92b0cf08688f44b692c1fc0ed6c54d11",
       "version_major": 2,
       "version_minor": 0
      },
      "text/plain": [
       "Text(value='', description='Ответ / Answer:', style=DescriptionStyle(description_width='initial'))"
      ]
     },
     "metadata": {},
     "output_type": "display_data"
    },
    {
     "data": {
      "application/vnd.jupyter.widget-view+json": {
       "model_id": "4c6cc734d9d6456e8d47033b718428d4",
       "version_major": 2,
       "version_minor": 0
      },
      "text/plain": [
       "HTML(value='<b>10. Где вы обычно встречаетесь с другими студентами, когда не посещаете занятия? (Нажмите на ка…"
      ]
     },
     "metadata": {},
     "output_type": "display_data"
    },
    {
     "data": {
      "application/vnd.jupyter.widget-view+json": {
       "model_id": "1f0c73a0f7f74f75b96c1a1ac0218633",
       "version_major": 2,
       "version_minor": 0
      },
      "text/plain": [
       "Map(basemap={'url': 'https://{s}.tile.openstreetmap.org/{z}/{x}/{y}.png', 'max_zoom': 19, 'attribution': 'Map …"
      ]
     },
     "metadata": {},
     "output_type": "display_data"
    },
    {
     "data": {
      "application/vnd.jupyter.widget-view+json": {
       "model_id": "467a5edd754e451ebc2d4d279e099a3b",
       "version_major": 2,
       "version_minor": 0
      },
      "text/plain": [
       "HTML(value='<i>Маркер не установлен / No marker set</i>')"
      ]
     },
     "metadata": {},
     "output_type": "display_data"
    },
    {
     "data": {
      "application/vnd.jupyter.widget-view+json": {
       "model_id": "ff07427587e04437baea6f811a0caf3c",
       "version_major": 2,
       "version_minor": 0
      },
      "text/plain": [
       "HTML(value='<b>11. Считаете ли Вы что в Томске достаточно мест для встречи с друзьями и другими студентами?</b…"
      ]
     },
     "metadata": {},
     "output_type": "display_data"
    },
    {
     "data": {
      "application/vnd.jupyter.widget-view+json": {
       "model_id": "9ab8becaec8b4ceca2ec90be45183191",
       "version_major": 2,
       "version_minor": 0
      },
      "text/plain": [
       "Text(value='', description='Ответ / Answer:', style=DescriptionStyle(description_width='initial'))"
      ]
     },
     "metadata": {},
     "output_type": "display_data"
    },
    {
     "data": {
      "application/vnd.jupyter.widget-view+json": {
       "model_id": "48015a0add204d8aa9ad8ab434b85b64",
       "version_major": 2,
       "version_minor": 0
      },
      "text/plain": [
       "HTML(value='<b>12. Считаете ли Вы, что российские студенты чувствуют, что Томск - удобный город?</b> / <i>Do y…"
      ]
     },
     "metadata": {},
     "output_type": "display_data"
    },
    {
     "data": {
      "application/vnd.jupyter.widget-view+json": {
       "model_id": "a0ad72e488804193bd44c34b3480a242",
       "version_major": 2,
       "version_minor": 0
      },
      "text/plain": [
       "RadioButtons(index=2, layout=Layout(width='initial'), options=('Да / Yes', 'Нет / No', 'Затрудняюсь ответить /…"
      ]
     },
     "metadata": {},
     "output_type": "display_data"
    },
    {
     "data": {
      "application/vnd.jupyter.widget-view+json": {
       "model_id": "f476cf814a854fa09808200b436100f7",
       "version_major": 2,
       "version_minor": 0
      },
      "text/plain": [
       "HTML(value='<b>13. Думаете ли вы, что иностранные студенты воспринимают Томск как комфортный город?</b> / <i>D…"
      ]
     },
     "metadata": {},
     "output_type": "display_data"
    },
    {
     "data": {
      "application/vnd.jupyter.widget-view+json": {
       "model_id": "67b1370690cd411e8b6e9cb42b4685f6",
       "version_major": 2,
       "version_minor": 0
      },
      "text/plain": [
       "RadioButtons(index=2, layout=Layout(width='initial'), options=('Да / Yes', 'Нет / No', 'Затрудняюсь ответить /…"
      ]
     },
     "metadata": {},
     "output_type": "display_data"
    },
    {
     "data": {
      "application/vnd.jupyter.widget-view+json": {
       "model_id": "31df3f7d3c4d4f30a71063353fbd2d28",
       "version_major": 2,
       "version_minor": 0
      },
      "text/plain": [
       "HTML(value='<b>14. Считаете ли вы важным создание межкультурного центра для иностранных студентов в Томске?</b…"
      ]
     },
     "metadata": {},
     "output_type": "display_data"
    },
    {
     "data": {
      "application/vnd.jupyter.widget-view+json": {
       "model_id": "db28ead40cbc40fa843978a666813410",
       "version_major": 2,
       "version_minor": 0
      },
      "text/plain": [
       "RadioButtons(index=2, layout=Layout(width='initial'), options=('Да / Yes', 'Нет / No', 'Затрудняюсь ответить /…"
      ]
     },
     "metadata": {},
     "output_type": "display_data"
    },
    {
     "data": {
      "application/vnd.jupyter.widget-view+json": {
       "model_id": "c80c470fbe994781b975e191049fdce0",
       "version_major": 2,
       "version_minor": 0
      },
      "text/plain": [
       "HTML(value='<b>15. Считаете ли Вы важным создать в Томске такое место, где иностранные и российские студенты м…"
      ]
     },
     "metadata": {},
     "output_type": "display_data"
    },
    {
     "data": {
      "application/vnd.jupyter.widget-view+json": {
       "model_id": "e3f788fc86054c54b91a2bb8c76d63f0",
       "version_major": 2,
       "version_minor": 0
      },
      "text/plain": [
       "RadioButtons(index=2, layout=Layout(width='initial'), options=('Да / Yes', 'Нет / No', 'Затрудняюсь ответить /…"
      ]
     },
     "metadata": {},
     "output_type": "display_data"
    },
    {
     "data": {
      "application/vnd.jupyter.widget-view+json": {
       "model_id": "d9d6e1aa0bb840d8bf3bed2510d675af",
       "version_major": 2,
       "version_minor": 0
      },
      "text/plain": [
       "HTML(value='<b>16. В какой форме Вы готовы участвовать в создании межкультурного центра для студентов?</b> / <…"
      ]
     },
     "metadata": {},
     "output_type": "display_data"
    },
    {
     "data": {
      "application/vnd.jupyter.widget-view+json": {
       "model_id": "3abb14db8a3d463d80226bbdfc86a213",
       "version_major": 2,
       "version_minor": 0
      },
      "text/plain": [
       "RadioButtons(index=4, layout=Layout(width='initial'), options=('Готов тратить свое время / Dedicating your own…"
      ]
     },
     "metadata": {},
     "output_type": "display_data"
    },
    {
     "data": {
      "application/vnd.jupyter.widget-view+json": {
       "model_id": "ec5fb45d52ea401da40bfeba9873796f",
       "version_major": 2,
       "version_minor": 0
      },
      "text/plain": [
       "HTML(value='<br/><i><b>Пожалуйста, нажмите кнопку ниже, чтобы отправить свои ответы. Мы гарантируем, что ваши …"
      ]
     },
     "metadata": {},
     "output_type": "display_data"
    },
    {
     "data": {
      "application/vnd.jupyter.widget-view+json": {
       "model_id": "b5b82d1892bb4b8daf4c55914b51d097",
       "version_major": 2,
       "version_minor": 0
      },
      "text/plain": [
       "Button(description='Отправить данные / Send data', layout=Layout(height='60px', width='auto'), style=ButtonSty…"
      ]
     },
     "metadata": {},
     "output_type": "display_data"
    },
    {
     "data": {
      "application/vnd.jupyter.widget-view+json": {
       "model_id": "159c364ce0974a2ba1632510b22f8a48",
       "version_major": 2,
       "version_minor": 0
      },
      "text/plain": [
       "HTML(value='')"
      ]
     },
     "metadata": {},
     "output_type": "display_data"
    },
    {
     "data": {
      "application/vnd.jupyter.widget-view+json": {
       "model_id": "105f184aa00446918ba739d28193b46f",
       "version_major": 2,
       "version_minor": 0
      },
      "text/plain": [
       "HTML(value='')"
      ]
     },
     "metadata": {},
     "output_type": "display_data"
    }
   ],
   "source": [
    "from ipyleaflet import Map, Marker, LayerGroup\n",
    "from ipywidgets import Label, Button, RadioButtons, Layout, HTML, Dropdown, Text\n",
    "import gspread\n",
    "from oauth2client.service_account import ServiceAccountCredentials\n",
    "import datetime\n",
    "\n",
    "\n",
    "# Question 1 settings\n",
    "\n",
    "sex_question_label = HTML(value='<b>1. Ваш пол?</b> / <i>What is your sex?</i>')\n",
    "\n",
    "sex_question = RadioButtons(\n",
    "    options=['Мужской / Male', 'Женский / Female', 'Другой / Other', 'Затрудняюсь ответить / No answer'],\n",
    "    value='Затрудняюсь ответить / No answer',\n",
    "    layout={'width': 'initial'},\n",
    "    style = {'description_width': 'initial'},\n",
    "    disabled=False)\n",
    "\n",
    "# Question 2 settings\n",
    "\n",
    "age_question_label = HTML(value='<b>2. Ваш возраст?</b> / <i>What is your age?</i>')\n",
    "\n",
    "ages = ['Затрудняюсь ответить / No answer']\n",
    "ages.extend(list(range(13, 100))) \n",
    "\n",
    "age_question = Dropdown(\n",
    "    options=ages,\n",
    "    value='Затрудняюсь ответить / No answer')\n",
    "\n",
    "# Question 3 settings\n",
    "\n",
    "origin_question_label = HTML(value='<b>3. Вы иностранный студент или студент из России?</b> / <i>Are you a foreign student or a Russian student?</i>')\n",
    "\n",
    "origin_question = RadioButtons(\n",
    "    options=['Иностранный / Foreign', 'Из России / Russian', 'Затрудняюсь ответить / No answer'],\n",
    "    value='Затрудняюсь ответить / No answer',\n",
    "    layout={'width': 'initial'},\n",
    "    style = {'description_width': 'initial'},\n",
    "    disabled=False)\n",
    "\n",
    "# Question 4 settings\n",
    "\n",
    "country_question_label = HTML(value='<b>4. Если Вы иностранный студент, из какой страны Вы приехали?</b> / <i>If you are a foreign student, what country are you from?</i>')\n",
    "\n",
    "country_question = Text(description='Ответ / Answer:', style={'description_width': 'initial'})\n",
    "\n",
    "# Map 1 (Question 5, 6, 7) settings and click handling\n",
    "\n",
    "map1_label = HTML(value = '<b>5. Где Вы проводите большую часть своего свободного времени в Томске? (Нажмите на карту, чтобы установить маркер)</b> / <i>Where do you spend most of your free time in Tomsk? (Click on the map to set a marker)</i>')\n",
    "\n",
    "layer_group1 = LayerGroup()\n",
    "\n",
    "center = (56.4971944, 84.9837908)\n",
    "\n",
    "map1 = Map(center=center, zoom=12,\n",
    "        dragging=True,\n",
    "        scroll_wheel_zoom=True)\n",
    "\n",
    "map1.layout.width = '70%'\n",
    "map1.layout.height = '650px'\n",
    "\n",
    "map1_coord = HTML(value='<i>Маркер не установлен / No marker set</i>')\n",
    "\n",
    "map1_description_label = HTML(value = '<b>6. Пожалуйста, кратко опишите выбранное Вами пространство на карте (общежитие, квартира, парк, клуб и т. д.).</b> / <i>Please write a brief description of the place you selected on the map (dormitory, apartment, park, club, etc.)</i>')\n",
    "map1_description = Text(description='Ответ / Answer:', style={'description_width': 'initial'})\n",
    "\n",
    "map1_activity_label = HTML(value = '<b>7. Что Вы чаще всего делаете в указанным место?</b> / <i>What do you usually do in the place you selected on the map?</i>')\n",
    "map1_activity = Text(description='Ответ / Answer:', style={'description_width': 'initial'})\n",
    "\n",
    "def handle_click1(**kwargs):\n",
    "    if kwargs.get('type') == 'click':\n",
    "        layer_group1.clear_layers()\n",
    "        map1_coord.value = str(kwargs.get('coordinates'))\n",
    "        point = Marker(location=kwargs.get('coordinates'))\n",
    "        layer_group1.add_layer(point)\n",
    "        try:\n",
    "            map1.add_layer(layer_group1)\n",
    "        except:\n",
    "            pass\n",
    "\n",
    "map1.on_interaction(handle_click1)\n",
    "\n",
    "\n",
    "# Map 2 (Question 8, 9) settings and click handling\n",
    "\n",
    "map2_label = HTML(value = '<b>8. Где вы чаще всего готовитесь к занятиям (лекциям, семинарам, лабораториям)? (Нажмите на карту, чтобы установить маркер)</b> / <i>Where do you usually perform most of academic activities (studying, homework), when you are not taking classes? (Click on the map to set a marker)</i>')\n",
    "\n",
    "layer_group2 = LayerGroup()\n",
    "\n",
    "map2 = Map(center=center, zoom=12,\n",
    "        dragging=True,\n",
    "        scroll_wheel_zoom=True)\n",
    "\n",
    "map2.layout.width = '70%'\n",
    "map2.layout.height = '650px'\n",
    "\n",
    "map2_coord = HTML(value='<i>Маркер не установлен / No marker set</i>')\n",
    "\n",
    "map2_description_label = HTML(value = '<b>9. Пожалуйста, кратко опишите выбранное Вами пространство на карте.</b> / <i>Please write a brief description of the place you selected.</i>')\n",
    "map2_description = Text(description='Ответ / Answer:', style={'description_width': 'initial'})\n",
    "\n",
    "\n",
    "def handle_click2(**kwargs):\n",
    "    if kwargs.get('type') == 'click':\n",
    "        layer_group2.clear_layers()\n",
    "        map2_coord.value = str(kwargs.get('coordinates'))\n",
    "        point = Marker(location=kwargs.get('coordinates'))\n",
    "        layer_group2.add_layer(point)\n",
    "        try:\n",
    "            map2.add_layer(layer_group2)\n",
    "        except:\n",
    "            pass\n",
    "\n",
    "map2.on_interaction(handle_click2)\n",
    "\n",
    "\n",
    "# Map 3 (Question 10, 11) settings and click handling\n",
    "\n",
    "map3_label = HTML(value = '<b>10. Где вы обычно встречаетесь с другими студентами, когда не посещаете занятия? (Нажмите на карту, чтобы установить маркер)</b> / <i>Where do you usually meet with other students, when you are not taking classes? (Click on the map to set a marker)</i>')\n",
    "\n",
    "layer_group3 = LayerGroup()\n",
    "\n",
    "map3 = Map(center=center, zoom=12,\n",
    "        dragging=True,\n",
    "        scroll_wheel_zoom=True)\n",
    "\n",
    "map3.layout.width = '70%'\n",
    "map3.layout.height = '650px'\n",
    "\n",
    "map3_coord = HTML(value='<i>Маркер не установлен / No marker set</i>')\n",
    "\n",
    "map3_question_label = HTML(value = '<b>11. Считаете ли Вы что в Томске достаточно мест для встречи с друзьями и другими студентами?</b> / <i>Do you think that in Tomsk there are enough places to meet with friends and other students?</i>')\n",
    "map3_question = RadioButtons(\n",
    "    options=['Да / Yes', 'Нет / No', 'Затрудняюсь ответить / No answer'],\n",
    "    value='Затрудняюсь ответить / No answer',\n",
    "    layout={'width': 'initial'},\n",
    "    style = {'description_width': 'initial'})\n",
    "\n",
    "\n",
    "def handle_click3(**kwargs):\n",
    "    if kwargs.get('type') == 'click':\n",
    "        layer_group3.clear_layers()\n",
    "        map2_coord.value = str(kwargs.get('coordinates'))\n",
    "        point = Marker(location=kwargs.get('coordinates'))\n",
    "        layer_group3.add_layer(point)\n",
    "        try:\n",
    "            map3.add_layer(layer_group3)\n",
    "        except:\n",
    "            pass\n",
    "\n",
    "map3.on_interaction(handle_click3)\n",
    "\n",
    "\n",
    "# Question 11 settings\n",
    "\n",
    "question11_label = HTML(value='<b>12. Считаете ли Вы, что российские студенты чувствуют, что Томск - удобный город?</b> / <i>Do you think that Russian students feel that Tomsk is a comfortable city?</i>')\n",
    "\n",
    "question11 = RadioButtons(\n",
    "    options=['Да / Yes', 'Нет / No', 'Затрудняюсь ответить / No answer'],\n",
    "    value='Затрудняюсь ответить / No answer',\n",
    "    layout={'width': 'initial'},\n",
    "    style = {'description_width': 'initial'})\n",
    "\n",
    "# Question 12 settings\n",
    "\n",
    "question12_label = HTML(value='<b>13. Думаете ли вы, что иностранные студенты воспринимают Томск как комфортный город?</b> / <i>Do you think that foreign students feel that Tomsk is a comfortable city for students?</i>')\n",
    "\n",
    "question12 = RadioButtons(\n",
    "    options=['Да / Yes', 'Нет / No', 'Затрудняюсь ответить / No answer'],\n",
    "    value='Затрудняюсь ответить / No answer',\n",
    "    layout={'width': 'initial'},\n",
    "    style = {'description_width': 'initial'})\n",
    "\n",
    "# Question 13 settings\n",
    "\n",
    "question13_label = HTML(value='<b>14. Считаете ли вы важным создание межкультурного центра для иностранных студентов в Томске?</b> / <i>Do you believe that it is important to create an intercultural center for foreign students in Tomsk?</i>')\n",
    "\n",
    "question13 = RadioButtons(\n",
    "    options=['Да / Yes', 'Нет / No', 'Затрудняюсь ответить / No answer'],\n",
    "    value='Затрудняюсь ответить / No answer',\n",
    "    layout={'width': 'initial'},\n",
    "    style = {'description_width': 'initial'})\n",
    "\n",
    "# Question 14 settings\n",
    "\n",
    "question14_label = HTML(value='<b>15. Считаете ли Вы важным создать в Томске такое место, где иностранные и российские студенты могут встречаться друг с другом?</b> / <i>Do you believe it is important to create a place in Tomsk where foreign and Russian students can meet each other?</i>')\n",
    "\n",
    "question14 = RadioButtons(\n",
    "    options=['Да / Yes', 'Нет / No', 'Затрудняюсь ответить / No answer'],\n",
    "    value='Затрудняюсь ответить / No answer',\n",
    "    layout={'width': 'initial'},\n",
    "    style = {'description_width': 'initial'})\n",
    "\n",
    "# Question 15 settings\n",
    "\n",
    "question15_label = HTML(value='<b>16. В какой форме Вы готовы участвовать в создании межкультурного центра для студентов?</b> / <i>In what way would you be willing to help to create an intercultural place for students?</i>')\n",
    "\n",
    "question15 = RadioButtons(\n",
    "    options=['Готов тратить свое время / Dedicating your own time', \n",
    "             'Готов тратить свои деньги / Spending your own money', \n",
    "             'Готов тратить свои время и деньги / With your own time and money',\n",
    "             'Не готов / You would not be willing to help',\n",
    "             'Затрудняюсь ответить / No answer'],\n",
    "    value='Затрудняюсь ответить / No answer',\n",
    "    layout={'width': 'initial'},\n",
    "    style = {'description_width': 'initial'})\n",
    "\n",
    "# Send data button settings \n",
    "\n",
    "send_instructions = HTML('<br/><i><b>Пожалуйста, нажмите кнопку ниже, чтобы отправить свои ответы. Мы гарантируем, что ваши ответы будут обрабатываться анонимно. С результатами опроса Вы сможете ознакомиться на сайте проекта: “Европейские практики совместного создания человеко-ориентированных умных городов / Co–creation of EU Human Smart Cities (CoHuSC)” https://smartcity.tpu.ru</b></i>' + '<br/><i>Please press the button below to send your answers. We guarantee that your answers will be handled anonymously. The results will be shown in the website of the project: \"Co–creation of EU Human Smart Cities (CoHuSC)” https://smartcity.tpu.ru</i>')\n",
    "\n",
    "send_label1 = HTML()\n",
    "send_label2 = HTML()\n",
    "\n",
    "send_button = Button(description='Отправить данные / Send data',\n",
    "                             layout=Layout(width='auto', height='60px'))\n",
    "\n",
    "def send_button_clicked(_):\n",
    "    send_label1.value = 'Подождите, пожалуйста ... / Please wait a moment...'\n",
    "    try:\n",
    "        new_row = [\n",
    "            str(datetime.datetime.now()).split('.')[0],\n",
    "            sex_question.value,\n",
    "            age_question.value,\n",
    "            origin_question.value,\n",
    "            country_question.value,\n",
    "            layer_group1.layers[0].location[0],\n",
    "            layer_group1.layers[0].location[1],\n",
    "            map1_description.value,\n",
    "            map1_activity.value,\n",
    "            layer_group2.layers[0].location[0],\n",
    "            layer_group2.layers[0].location[1],\n",
    "            map2_description.value,\n",
    "            layer_group3.layers[0].location[0],\n",
    "            layer_group3.layers[0].location[1],\n",
    "            map3_question.value,\n",
    "            question11.value,\n",
    "            question12.value,\n",
    "            question13.value,\n",
    "            question14.value,\n",
    "            question15.value\n",
    "        ]\n",
    "        scope = ['https://spreadsheets.google.com/feeds',\n",
    "                 'https://www.googleapis.com/auth/drive']\n",
    "        creds = ServiceAccountCredentials.from_json_keyfile_name('client_secret.json', scope)\n",
    "        client = gspread.authorize(creds)\n",
    "        sheet = client.open(\"Map_data\").sheet1\n",
    "        sheet.append_row(new_row)\n",
    "        send_label2.value = \"<b>Спасибо! Ваш ответ был записан. / Thank you! Your answer has been recorded.</b>\"\n",
    "    except:\n",
    "        send_label1.value = '<b>Вы не установили маркер на одной или нескольких картах. Пожалуйста, проверьте и нажмите кнопку еще раз. <br/> You have not set a marker in one or more of the maps. Please check and press the button again.</b>' \n",
    "    \n",
    "send_button.on_click(send_button_clicked)\n",
    "\n",
    "\n",
    "# Display user interface\n",
    "\n",
    "display(sex_question_label)\n",
    "display(sex_question)\n",
    "\n",
    "display(age_question_label)\n",
    "display(age_question)\n",
    "\n",
    "display(origin_question_label)\n",
    "display(origin_question)\n",
    "\n",
    "display(country_question_label)\n",
    "display(country_question)\n",
    "\n",
    "display(map1_label)\n",
    "display(map1)\n",
    "display(map1_coord)\n",
    "display(map1_description_label)\n",
    "display(map1_description)\n",
    "display(map1_activity_label)\n",
    "display(map1_activity)\n",
    "\n",
    "display(map2_label)\n",
    "display(map2)\n",
    "display(map2_coord)\n",
    "display(map2_description_label)\n",
    "display(map2_description)\n",
    "\n",
    "display(map3_label)\n",
    "display(map3)\n",
    "display(map3_coord)\n",
    "display(map3_question_label)\n",
    "display(map3_question)\n",
    "\n",
    "display(question11_label)\n",
    "display(question11)\n",
    "\n",
    "display(question12_label)\n",
    "display(question12)\n",
    "\n",
    "display(question13_label)\n",
    "display(question13)\n",
    "\n",
    "display(question14_label)\n",
    "display(question14)\n",
    "\n",
    "display(question15_label)\n",
    "display(question15)\n",
    "\n",
    "display(send_instructions)\n",
    "display(send_button)\n",
    "display(send_label1)\n",
    "display(send_label2)"
   ]
  }
 ],
 "metadata": {
  "hide_input": false,
  "kernelspec": {
   "display_name": "Python 3",
   "language": "python",
   "name": "python3"
  },
  "language_info": {
   "codemirror_mode": {
    "name": "ipython",
    "version": 3
   },
   "file_extension": ".py",
   "mimetype": "text/x-python",
   "name": "python",
   "nbconvert_exporter": "python",
   "pygments_lexer": "ipython3",
   "version": "3.7.3"
  }
 },
 "nbformat": 4,
 "nbformat_minor": 2
}
