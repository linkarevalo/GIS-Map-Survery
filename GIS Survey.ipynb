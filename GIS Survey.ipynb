{
 "cells": [
  {
   "cell_type": "markdown",
   "metadata": {},
   "source": [
    "# GIS Map Survey\n",
    "Благодарим Вас за то, что Вы согласились ответить на несколько вопросов. Ваши ответы помогут уточнить географию участников Международной студенческой площадки «UNI4CITY» и детализировать представления о студенческой жизни в г. Томске. С результатами опроса Вы сможете ознакомиться на сайте проекта: “Европейские практики совместного создания человеко-ориентированных умных городов / Co–creation of EU Human Smart Cities (CoHuSC)” https://smartcity.tpu.ru\n",
    "\n",
    "_Thank you for participating in this survey. Please, take a moment to answer a few questions. Your answers will help us gather some geographical information of participants in the International Student Event UNI4CITY and have more details about student life in Tomsk. The results will be shown in the website of the project: \"Co–creation of EU Human Smart Cities (CoHuSC)” https://smartcity.tpu.ru_"
   ]
  },
  {
   "cell_type": "code",
   "execution_count": 5,
   "metadata": {
    "ExecuteTime": {
     "end_time": "2019-11-25T18:07:46.306164Z",
     "start_time": "2019-11-25T18:07:46.091737Z"
    },
    "scrolled": false
   },
   "outputs": [
    {
     "data": {
      "application/vnd.jupyter.widget-view+json": {
       "model_id": "de2f7ce6347940e69ba538ae9627f697",
       "version_major": 2,
       "version_minor": 0
      },
      "text/plain": [
       "HTML(value='<b>1. Ваш пол?</b> / <i>What is your sex?</i>')"
      ]
     },
     "metadata": {},
     "output_type": "display_data"
    },
    {
     "data": {
      "application/vnd.jupyter.widget-view+json": {
       "model_id": "b73213a0f3ad46c1ba9023c858dcfdca",
       "version_major": 2,
       "version_minor": 0
      },
      "text/plain": [
       "RadioButtons(index=3, layout=Layout(width='initial'), options=('Мужской / Male', 'Женский / Female', 'Другой /…"
      ]
     },
     "metadata": {},
     "output_type": "display_data"
    },
    {
     "data": {
      "application/vnd.jupyter.widget-view+json": {
       "model_id": "7f77e8e9baf7476382938aa20b43bd6b",
       "version_major": 2,
       "version_minor": 0
      },
      "text/plain": [
       "HTML(value='<b>2. Ваш возраст?</b> / <i>What is your age?</i>')"
      ]
     },
     "metadata": {},
     "output_type": "display_data"
    },
    {
     "data": {
      "application/vnd.jupyter.widget-view+json": {
       "model_id": "883afb469c9849d5a73d955eb3f60f4d",
       "version_major": 2,
       "version_minor": 0
      },
      "text/plain": [
       "Dropdown(options=('Затрудняюсь ответить / No answer', 13, 14, 15, 16, 17, 18, 19, 20, 21, 22, 23, 24, 25, 26, …"
      ]
     },
     "metadata": {},
     "output_type": "display_data"
    },
    {
     "data": {
      "application/vnd.jupyter.widget-view+json": {
       "model_id": "2a352ccebcd54fd98df577ae93093262",
       "version_major": 2,
       "version_minor": 0
      },
      "text/plain": [
       "HTML(value='<b>3. Вы иностранный студент или студент из России?</b> / <i>Are you a foreign student or a Russia…"
      ]
     },
     "metadata": {},
     "output_type": "display_data"
    },
    {
     "data": {
      "application/vnd.jupyter.widget-view+json": {
       "model_id": "97becd2592d2430eb22301cdb3ef737a",
       "version_major": 2,
       "version_minor": 0
      },
      "text/plain": [
       "RadioButtons(index=2, layout=Layout(width='initial'), options=('Иностранный / Foreign', 'Из России / Russian',…"
      ]
     },
     "metadata": {},
     "output_type": "display_data"
    },
    {
     "data": {
      "application/vnd.jupyter.widget-view+json": {
       "model_id": "cedf9f324c644ff9a865e7f3df736451",
       "version_major": 2,
       "version_minor": 0
      },
      "text/plain": [
       "HTML(value='<b>4. Если Вы иностранный студент, из какой страны Вы приехали?</b> / <i>If you are a foreign stud…"
      ]
     },
     "metadata": {},
     "output_type": "display_data"
    },
    {
     "data": {
      "application/vnd.jupyter.widget-view+json": {
       "model_id": "8a21cc9eb11f446aa4d462836028d481",
       "version_major": 2,
       "version_minor": 0
      },
      "text/plain": [
       "Text(value='', description='Ответ / Answer:', style=DescriptionStyle(description_width='initial'))"
      ]
     },
     "metadata": {},
     "output_type": "display_data"
    },
    {
     "data": {
      "application/vnd.jupyter.widget-view+json": {
       "model_id": "9ab472b381e14ff78c005eeac0186d26",
       "version_major": 2,
       "version_minor": 0
      },
      "text/plain": [
       "HTML(value='<b>5. Где Вы проводите большую часть своего свободного времени в Томске? (Нажмите на карту, чтобы …"
      ]
     },
     "metadata": {},
     "output_type": "display_data"
    },
    {
     "data": {
      "application/vnd.jupyter.widget-view+json": {
       "model_id": "73cdd4d89606405480389090885cc49b",
       "version_major": 2,
       "version_minor": 0
      },
      "text/plain": [
       "Map(basemap={'url': 'https://{s}.tile.openstreetmap.org/{z}/{x}/{y}.png', 'max_zoom': 19, 'attribution': 'Map …"
      ]
     },
     "metadata": {},
     "output_type": "display_data"
    },
    {
     "data": {
      "application/vnd.jupyter.widget-view+json": {
       "model_id": "79164a9794b149c683489bcdfb7c75e9",
       "version_major": 2,
       "version_minor": 0
      },
      "text/plain": [
       "HTML(value='<i>Маркер не установлен / No marker set</i>')"
      ]
     },
     "metadata": {},
     "output_type": "display_data"
    },
    {
     "data": {
      "application/vnd.jupyter.widget-view+json": {
       "model_id": "084097af3752464bb96fe91b3601b1e9",
       "version_major": 2,
       "version_minor": 0
      },
      "text/plain": [
       "HTML(value='<b>6. Пожалуйста, кратко опишите выбранное Вами пространство на карте (общежитие, квартира, парк, …"
      ]
     },
     "metadata": {},
     "output_type": "display_data"
    },
    {
     "data": {
      "application/vnd.jupyter.widget-view+json": {
       "model_id": "0344ce8796f5442988bc99e68ac6f8d7",
       "version_major": 2,
       "version_minor": 0
      },
      "text/plain": [
       "Text(value='', description='Ответ / Answer:', style=DescriptionStyle(description_width='initial'))"
      ]
     },
     "metadata": {},
     "output_type": "display_data"
    },
    {
     "data": {
      "application/vnd.jupyter.widget-view+json": {
       "model_id": "1a67d63ff255455491ea2fe0a64b7caf",
       "version_major": 2,
       "version_minor": 0
      },
      "text/plain": [
       "HTML(value='<b>7. Что Вы чаще всего делаете в указанным место?</b> / <i>What do you usually do in the place yo…"
      ]
     },
     "metadata": {},
     "output_type": "display_data"
    },
    {
     "data": {
      "application/vnd.jupyter.widget-view+json": {
       "model_id": "660fa7a8b5f946539f681c0ed554c716",
       "version_major": 2,
       "version_minor": 0
      },
      "text/plain": [
       "Text(value='', description='Ответ / Answer:', style=DescriptionStyle(description_width='initial'))"
      ]
     },
     "metadata": {},
     "output_type": "display_data"
    },
    {
     "data": {
      "application/vnd.jupyter.widget-view+json": {
       "model_id": "dc4a0e1b04e940278f44c54026ce3ec2",
       "version_major": 2,
       "version_minor": 0
      },
      "text/plain": [
       "HTML(value='<b>8. Где вы чаще всего готовитесь к занятиям (лекциям, семинарам, лабораториям)? (Нажмите на карт…"
      ]
     },
     "metadata": {},
     "output_type": "display_data"
    },
    {
     "data": {
      "application/vnd.jupyter.widget-view+json": {
       "model_id": "f9ccc2580ee44ac490ed21afe9434c56",
       "version_major": 2,
       "version_minor": 0
      },
      "text/plain": [
       "Map(basemap={'url': 'https://{s}.tile.openstreetmap.org/{z}/{x}/{y}.png', 'max_zoom': 19, 'attribution': 'Map …"
      ]
     },
     "metadata": {},
     "output_type": "display_data"
    },
    {
     "data": {
      "application/vnd.jupyter.widget-view+json": {
       "model_id": "e6285a0c2eda4291b3ef570f1b477c07",
       "version_major": 2,
       "version_minor": 0
      },
      "text/plain": [
       "HTML(value='<i>Маркер не установлен / No marker set</i>')"
      ]
     },
     "metadata": {},
     "output_type": "display_data"
    },
    {
     "data": {
      "application/vnd.jupyter.widget-view+json": {
       "model_id": "7cf9ac74059a4e32bf564e7bf50297c1",
       "version_major": 2,
       "version_minor": 0
      },
      "text/plain": [
       "HTML(value='<b>9. Пожалуйста, кратко опишите выбранное Вами пространство на карте.</b> / <i>Please write a bri…"
      ]
     },
     "metadata": {},
     "output_type": "display_data"
    },
    {
     "data": {
      "application/vnd.jupyter.widget-view+json": {
       "model_id": "cfe1ef4d2ed843e985cd2d711c248a44",
       "version_major": 2,
       "version_minor": 0
      },
      "text/plain": [
       "Text(value='', description='Ответ / Answer:', style=DescriptionStyle(description_width='initial'))"
      ]
     },
     "metadata": {},
     "output_type": "display_data"
    },
    {
     "data": {
      "application/vnd.jupyter.widget-view+json": {
       "model_id": "af42541ca8ad43ffbef5c9440797a499",
       "version_major": 2,
       "version_minor": 0
      },
      "text/plain": [
       "HTML(value='<b>10. Где вы обычно встречаетесь с другими студентами, когда не посещаете занятия? (Нажмите на ка…"
      ]
     },
     "metadata": {},
     "output_type": "display_data"
    },
    {
     "data": {
      "application/vnd.jupyter.widget-view+json": {
       "model_id": "9ad14df9d04d43f787370593f15ea188",
       "version_major": 2,
       "version_minor": 0
      },
      "text/plain": [
       "Map(basemap={'url': 'https://{s}.tile.openstreetmap.org/{z}/{x}/{y}.png', 'max_zoom': 19, 'attribution': 'Map …"
      ]
     },
     "metadata": {},
     "output_type": "display_data"
    },
    {
     "data": {
      "application/vnd.jupyter.widget-view+json": {
       "model_id": "bb16ab0da17940589b7a9db0208fbf22",
       "version_major": 2,
       "version_minor": 0
      },
      "text/plain": [
       "HTML(value='<i>Маркер не установлен / No marker set</i>')"
      ]
     },
     "metadata": {},
     "output_type": "display_data"
    },
    {
     "data": {
      "application/vnd.jupyter.widget-view+json": {
       "model_id": "66cc8e7afc584ff996ea2238def553f8",
       "version_major": 2,
       "version_minor": 0
      },
      "text/plain": [
       "HTML(value='<b>11. Считаете ли Вы что в Томске достаточно мест для встречи с друзьями и другими студентами?</b…"
      ]
     },
     "metadata": {},
     "output_type": "display_data"
    },
    {
     "data": {
      "application/vnd.jupyter.widget-view+json": {
       "model_id": "670e37ac6bdd4bd58eace2d4a7cade26",
       "version_major": 2,
       "version_minor": 0
      },
      "text/plain": [
       "Text(value='', description='Ответ / Answer:', style=DescriptionStyle(description_width='initial'))"
      ]
     },
     "metadata": {},
     "output_type": "display_data"
    },
    {
     "data": {
      "application/vnd.jupyter.widget-view+json": {
       "model_id": "3f23f12d3ab9413fb28ff6e01380cc53",
       "version_major": 2,
       "version_minor": 0
      },
      "text/plain": [
       "HTML(value='<b>12. Считаете ли Вы, что российские студенты чувствуют, что Томск - удобный город?</b> / <i>Do y…"
      ]
     },
     "metadata": {},
     "output_type": "display_data"
    },
    {
     "data": {
      "application/vnd.jupyter.widget-view+json": {
       "model_id": "73e420e5945d441080fc9c6f8b680227",
       "version_major": 2,
       "version_minor": 0
      },
      "text/plain": [
       "RadioButtons(index=2, layout=Layout(width='initial'), options=('Да / Yes', 'Нет / No', 'Затрудняюсь ответить /…"
      ]
     },
     "metadata": {},
     "output_type": "display_data"
    },
    {
     "data": {
      "application/vnd.jupyter.widget-view+json": {
       "model_id": "cf4d4ecfa420457792946a0f94e3e902",
       "version_major": 2,
       "version_minor": 0
      },
      "text/plain": [
       "HTML(value='<b>13. Думаете ли вы, что иностранные студенты воспринимают Томск как комфортный город?</b> / <i>D…"
      ]
     },
     "metadata": {},
     "output_type": "display_data"
    },
    {
     "data": {
      "application/vnd.jupyter.widget-view+json": {
       "model_id": "5676e74309f342289e354ec63a92ed36",
       "version_major": 2,
       "version_minor": 0
      },
      "text/plain": [
       "RadioButtons(index=2, layout=Layout(width='initial'), options=('Да / Yes', 'Нет / No', 'Затрудняюсь ответить /…"
      ]
     },
     "metadata": {},
     "output_type": "display_data"
    },
    {
     "data": {
      "application/vnd.jupyter.widget-view+json": {
       "model_id": "ba30409c85af4616a3764b3cc229e7da",
       "version_major": 2,
       "version_minor": 0
      },
      "text/plain": [
       "HTML(value='<b>14. Считаете ли вы важным создание межкультурного центра для иностранных студентов в Томске?</b…"
      ]
     },
     "metadata": {},
     "output_type": "display_data"
    },
    {
     "data": {
      "application/vnd.jupyter.widget-view+json": {
       "model_id": "4e5c26d9a5a54dd3b93effc68da1fc1a",
       "version_major": 2,
       "version_minor": 0
      },
      "text/plain": [
       "RadioButtons(index=2, layout=Layout(width='initial'), options=('Да / Yes', 'Нет / No', 'Затрудняюсь ответить /…"
      ]
     },
     "metadata": {},
     "output_type": "display_data"
    },
    {
     "data": {
      "application/vnd.jupyter.widget-view+json": {
       "model_id": "74899b40914845e7aecab01dffbe74a7",
       "version_major": 2,
       "version_minor": 0
      },
      "text/plain": [
       "HTML(value='<b>15. Считаете ли Вы важным создать в Томске такое место, где иностранные и российские студенты м…"
      ]
     },
     "metadata": {},
     "output_type": "display_data"
    },
    {
     "data": {
      "application/vnd.jupyter.widget-view+json": {
       "model_id": "d7af64e299664c8f90aa0a4c5f730e8e",
       "version_major": 2,
       "version_minor": 0
      },
      "text/plain": [
       "RadioButtons(index=2, layout=Layout(width='initial'), options=('Да / Yes', 'Нет / No', 'Затрудняюсь ответить /…"
      ]
     },
     "metadata": {},
     "output_type": "display_data"
    },
    {
     "data": {
      "application/vnd.jupyter.widget-view+json": {
       "model_id": "6533b63380d944c7b80f5b8b50a9f7e5",
       "version_major": 2,
       "version_minor": 0
      },
      "text/plain": [
       "HTML(value='<b>16. В какой форме Вы готовы участвовать в создании межкультурного центра для студентов?</b> / <…"
      ]
     },
     "metadata": {},
     "output_type": "display_data"
    },
    {
     "data": {
      "application/vnd.jupyter.widget-view+json": {
       "model_id": "c4404c5f56b0496b8dbde3c76533bc44",
       "version_major": 2,
       "version_minor": 0
      },
      "text/plain": [
       "RadioButtons(index=4, layout=Layout(width='initial'), options=('Готов тратить свое время / Dedicating your own…"
      ]
     },
     "metadata": {},
     "output_type": "display_data"
    },
    {
     "data": {
      "application/vnd.jupyter.widget-view+json": {
       "model_id": "a60bb2da458a4857ae0bb1327e15de61",
       "version_major": 2,
       "version_minor": 0
      },
      "text/plain": [
       "HTML(value='<br/><i><b>Пожалуйста, нажмите кнопку ниже, чтобы отправить свои ответы. Мы гарантируем, что ваши …"
      ]
     },
     "metadata": {},
     "output_type": "display_data"
    },
    {
     "data": {
      "application/vnd.jupyter.widget-view+json": {
       "model_id": "97a5217e20b249e6ae650b1d8ac7eeeb",
       "version_major": 2,
       "version_minor": 0
      },
      "text/plain": [
       "Button(description='Отправить данные / Send data', layout=Layout(height='60px', width='auto'), style=ButtonSty…"
      ]
     },
     "metadata": {},
     "output_type": "display_data"
    },
    {
     "data": {
      "application/vnd.jupyter.widget-view+json": {
       "model_id": "f75f986c97af445fb08da868ed650f10",
       "version_major": 2,
       "version_minor": 0
      },
      "text/plain": [
       "HTML(value='')"
      ]
     },
     "metadata": {},
     "output_type": "display_data"
    },
    {
     "data": {
      "application/vnd.jupyter.widget-view+json": {
       "model_id": "12464e09d4544f038e1d020e39e2b276",
       "version_major": 2,
       "version_minor": 0
      },
      "text/plain": [
       "HTML(value='')"
      ]
     },
     "metadata": {},
     "output_type": "display_data"
    }
   ],
   "source": [
    "from ipyleaflet import Map, Marker, LayerGroup\n",
    "from ipywidgets import Label, Button, RadioButtons, Layout, HTML, Dropdown, Text\n",
    "import gspread\n",
    "from oauth2client.service_account import ServiceAccountCredentials\n",
    "import datetime\n",
    "\n",
    "\n",
    "# Question 1 settings\n",
    "\n",
    "sex_question_label = HTML(value='<b>1. Ваш пол?</b> / <i>What is your sex?</i>')\n",
    "\n",
    "sex_question = RadioButtons(\n",
    "    options=['Мужской / Male', 'Женский / Female', 'Другой / Other', 'Затрудняюсь ответить / No answer'],\n",
    "    value='Затрудняюсь ответить / No answer',\n",
    "    layout={'width': 'initial'},\n",
    "    style = {'description_width': 'initial'},\n",
    "    disabled=False)\n",
    "\n",
    "# Question 2 settings\n",
    "\n",
    "age_question_label = HTML(value='<b>2. Ваш возраст?</b> / <i>What is your age?</i>')\n",
    "\n",
    "ages = ['Затрудняюсь ответить / No answer']\n",
    "ages.extend(list(range(13, 100))) \n",
    "\n",
    "age_question = Dropdown(\n",
    "    options=ages,\n",
    "    value='Затрудняюсь ответить / No answer')\n",
    "\n",
    "# Question 3 settings\n",
    "\n",
    "origin_question_label = HTML(value='<b>3. Вы иностранный студент или студент из России?</b> / <i>Are you a foreign student or a Russian student?</i>')\n",
    "\n",
    "origin_question = RadioButtons(\n",
    "    options=['Иностранный / Foreign', 'Из России / Russian', 'Затрудняюсь ответить / No answer'],\n",
    "    value='Затрудняюсь ответить / No answer',\n",
    "    layout={'width': 'initial'},\n",
    "    style = {'description_width': 'initial'},\n",
    "    disabled=False)\n",
    "\n",
    "# Question 4 settings\n",
    "\n",
    "country_question_label = HTML(value='<b>4. Если Вы иностранный студент, из какой страны Вы приехали?</b> / <i>If you are a foreign student, what country are you from?</i>')\n",
    "\n",
    "country_question = Text(description='Ответ / Answer:', style={'description_width': 'initial'})\n",
    "\n",
    "# Map 1 (Question 5, 6, 7) settings and click handling\n",
    "\n",
    "map1_label = HTML(value = '<b>5. Где Вы проводите большую часть своего свободного времени в Томске? (Нажмите на карту, чтобы установить маркер)</b> / <i>Where do you spend most of your free time in Tomsk? (Click on the map to set a marker)</i>')\n",
    "\n",
    "layer_group1 = LayerGroup()\n",
    "\n",
    "center = (56.4971944, 84.9837908)\n",
    "\n",
    "map1 = Map(center=center, zoom=12,\n",
    "        dragging=True,\n",
    "        scroll_wheel_zoom=True)\n",
    "\n",
    "map1.layout.width = '70%'\n",
    "map1.layout.height = '650px'\n",
    "\n",
    "map1_coord = HTML(value='<i>Маркер не установлен / No marker set</i>')\n",
    "\n",
    "map1_description_label = HTML(value = '<b>6. Пожалуйста, кратко опишите выбранное Вами пространство на карте (общежитие, квартира, парк, клуб и т. д.).</b> / <i>Please write a brief description of the place you selected on the map (dormitory, apartment, park, club, etc.)</i>')\n",
    "map1_description = Text(description='Ответ / Answer:', style={'description_width': 'initial'})\n",
    "\n",
    "map1_activity_label = HTML(value = '<b>7. Что Вы чаще всего делаете в указанным место?</b> / <i>What do you usually do in the place you selected on the map?</i>')\n",
    "map1_activity = Text(description='Ответ / Answer:', style={'description_width': 'initial'})\n",
    "\n",
    "def handle_click1(**kwargs):\n",
    "    if kwargs.get('type') == 'click':\n",
    "        layer_group1.clear_layers()\n",
    "        map1_coord.value = str(kwargs.get('coordinates'))\n",
    "        point = Marker(location=kwargs.get('coordinates'))\n",
    "        layer_group1.add_layer(point)\n",
    "        try:\n",
    "            map1.add_layer(layer_group1)\n",
    "        except:\n",
    "            pass\n",
    "\n",
    "map1.on_interaction(handle_click1)\n",
    "\n",
    "\n",
    "# Map 2 (Question 8, 9) settings and click handling\n",
    "\n",
    "map2_label = HTML(value = '<b>8. Где вы чаще всего готовитесь к занятиям (лекциям, семинарам, лабораториям)? (Нажмите на карту, чтобы установить маркер)</b> / <i>Where do you usually perform most of academic activities (studying, homework), when you are not taking classes? (Click on the map to set a marker)</i>')\n",
    "\n",
    "layer_group2 = LayerGroup()\n",
    "\n",
    "map2 = Map(center=center, zoom=12,\n",
    "        dragging=True,\n",
    "        scroll_wheel_zoom=True)\n",
    "\n",
    "map2.layout.width = '70%'\n",
    "map2.layout.height = '650px'\n",
    "\n",
    "map2_coord = HTML(value='<i>Маркер не установлен / No marker set</i>')\n",
    "\n",
    "map2_description_label = HTML(value = '<b>9. Пожалуйста, кратко опишите выбранное Вами пространство на карте.</b> / <i>Please write a brief description of the place you selected.</i>')\n",
    "map2_description = Text(description='Ответ / Answer:', style={'description_width': 'initial'})\n",
    "\n",
    "\n",
    "def handle_click2(**kwargs):\n",
    "    if kwargs.get('type') == 'click':\n",
    "        layer_group2.clear_layers()\n",
    "        map2_coord.value = str(kwargs.get('coordinates'))\n",
    "        point = Marker(location=kwargs.get('coordinates'))\n",
    "        layer_group2.add_layer(point)\n",
    "        try:\n",
    "            map2.add_layer(layer_group2)\n",
    "        except:\n",
    "            pass\n",
    "\n",
    "map2.on_interaction(handle_click2)\n",
    "\n",
    "\n",
    "# Map 3 (Question 10, 11) settings and click handling\n",
    "\n",
    "map3_label = HTML(value = '<b>10. Где вы обычно встречаетесь с другими студентами, когда не посещаете занятия? (Нажмите на карту, чтобы установить маркер)</b> / <i>Where do you usually meet with other students, when you are not taking classes? (Click on the map to set a marker)</i>')\n",
    "\n",
    "layer_group3 = LayerGroup()\n",
    "\n",
    "map3 = Map(center=center, zoom=12,\n",
    "        dragging=True,\n",
    "        scroll_wheel_zoom=True)\n",
    "\n",
    "map3.layout.width = '70%'\n",
    "map3.layout.height = '650px'\n",
    "\n",
    "map3_coord = HTML(value='<i>Маркер не установлен / No marker set</i>')\n",
    "\n",
    "map3_question_label = HTML(value = '<b>11. Считаете ли Вы что в Томске достаточно мест для встречи с друзьями и другими студентами?</b> / <i>Do you think that in Tomsk there are enough places to meet with friends and other students?</i>')\n",
    "map3_question = Text(description='Ответ / Answer:', style={'description_width': 'initial'})\n",
    "\n",
    "\n",
    "def handle_click3(**kwargs):\n",
    "    if kwargs.get('type') == 'click':\n",
    "        layer_group3.clear_layers()\n",
    "        map2_coord.value = str(kwargs.get('coordinates'))\n",
    "        point = Marker(location=kwargs.get('coordinates'))\n",
    "        layer_group3.add_layer(point)\n",
    "        try:\n",
    "            map3.add_layer(layer_group3)\n",
    "        except:\n",
    "            pass\n",
    "\n",
    "map3.on_interaction(handle_click3)\n",
    "\n",
    "\n",
    "# Question 11 settings\n",
    "\n",
    "question11_label = HTML(value='<b>12. Считаете ли Вы, что российские студенты чувствуют, что Томск - удобный город?</b> / <i>Do you think that Russian students feel that Tomsk is a comfortable city?</i>')\n",
    "\n",
    "question11 = RadioButtons(\n",
    "    options=['Да / Yes', 'Нет / No', 'Затрудняюсь ответить / No answer'],\n",
    "    value='Затрудняюсь ответить / No answer',\n",
    "    layout={'width': 'initial'},\n",
    "    style = {'description_width': 'initial'})\n",
    "\n",
    "# Question 12 settings\n",
    "\n",
    "question12_label = HTML(value='<b>13. Думаете ли вы, что иностранные студенты воспринимают Томск как комфортный город?</b> / <i>Do you think that foreign students feel that Tomsk is a comfortable city for students?</i>')\n",
    "\n",
    "question12 = RadioButtons(\n",
    "    options=['Да / Yes', 'Нет / No', 'Затрудняюсь ответить / No answer'],\n",
    "    value='Затрудняюсь ответить / No answer',\n",
    "    layout={'width': 'initial'},\n",
    "    style = {'description_width': 'initial'})\n",
    "\n",
    "# Question 13 settings\n",
    "\n",
    "question13_label = HTML(value='<b>14. Считаете ли вы важным создание межкультурного центра для иностранных студентов в Томске?</b> / <i>Do you believe that it is important to create an intercultural center for foreign students in Tomsk?</i>')\n",
    "\n",
    "question13 = RadioButtons(\n",
    "    options=['Да / Yes', 'Нет / No', 'Затрудняюсь ответить / No answer'],\n",
    "    value='Затрудняюсь ответить / No answer',\n",
    "    layout={'width': 'initial'},\n",
    "    style = {'description_width': 'initial'})\n",
    "\n",
    "# Question 14 settings\n",
    "\n",
    "question14_label = HTML(value='<b>15. Считаете ли Вы важным создать в Томске такое место, где иностранные и российские студенты могут встречаться друг с другом?</b> / <i>Do you believe it is important to create a place in Tomsk where foreign and Russian students can meet each other?</i>')\n",
    "\n",
    "question14 = RadioButtons(\n",
    "    options=['Да / Yes', 'Нет / No', 'Затрудняюсь ответить / No answer'],\n",
    "    value='Затрудняюсь ответить / No answer',\n",
    "    layout={'width': 'initial'},\n",
    "    style = {'description_width': 'initial'})\n",
    "\n",
    "# Question 15 settings\n",
    "\n",
    "question15_label = HTML(value='<b>16. В какой форме Вы готовы участвовать в создании межкультурного центра для студентов?</b> / <i>In what way would you be willing to help to create an intercultural place for students?</i>')\n",
    "\n",
    "question15 = RadioButtons(\n",
    "    options=['Готов тратить свое время / Dedicating your own time', \n",
    "             'Готов тратить свои деньги / Spending your own money', \n",
    "             'Готов тратить свои время и деньги / With your own time and money',\n",
    "             'Не готов / You would not be willing to help',\n",
    "             'Затрудняюсь ответить / No answer'],\n",
    "    value='Затрудняюсь ответить / No answer',\n",
    "    layout={'width': 'initial'},\n",
    "    style = {'description_width': 'initial'})\n",
    "\n",
    "# Send data button settings \n",
    "\n",
    "send_instructions = HTML('<br/><i><b>Пожалуйста, нажмите кнопку ниже, чтобы отправить свои ответы. Мы гарантируем, что ваши ответы будут обрабатываться анонимно.</b></i>' + '<br/><i>Please press the button below to send your answers. We guarantee that your answers will be handled anonymously.</i>')\n",
    "\n",
    "send_label1 = HTML()\n",
    "send_label2 = HTML()\n",
    "\n",
    "send_button = Button(description='Отправить данные / Send data',\n",
    "                             layout=Layout(width='auto', height='60px'))\n",
    "\n",
    "def send_button_clicked(_):\n",
    "    send_label1.value = 'Подождите, пожалуйста ... / Please wait a moment...'\n",
    "    try:\n",
    "        new_row = [\n",
    "            str(datetime.datetime.now()).split('.')[0],\n",
    "            sex_question.value,\n",
    "            age_question.value,\n",
    "            origin_question.value,\n",
    "            country_question.value,\n",
    "            layer_group1.layers[0].location[0],\n",
    "            layer_group1.layers[0].location[1],\n",
    "            map1_description.value,\n",
    "            map1_activity.value,\n",
    "            layer_group2.layers[0].location[0],\n",
    "            layer_group2.layers[0].location[1],\n",
    "            map2_description.value,\n",
    "            layer_group3.layers[0].location[0],\n",
    "            layer_group3.layers[0].location[1],\n",
    "            map3_question.value,\n",
    "            question11.value,\n",
    "            question12.value,\n",
    "            question13.value,\n",
    "            question14.value,\n",
    "            question15.value\n",
    "        ]\n",
    "        scope = ['https://spreadsheets.google.com/feeds',\n",
    "                 'https://www.googleapis.com/auth/drive']\n",
    "        creds = ServiceAccountCredentials.from_json_keyfile_name('client_secret.json', scope)\n",
    "        client = gspread.authorize(creds)\n",
    "        sheet = client.open(\"Map_data\").sheet1\n",
    "        sheet.append_row(new_row)\n",
    "        send_label2.value = \"<b>Спасибо! Ваш ответ был записан. / Thank you! Your answer has been recorded.</b>\"\n",
    "    except:\n",
    "        send_label1.value = '<b>Вы не установили маркер на одной или нескольких картах. Пожалуйста, проверьте и нажмите кнопку еще раз. <br/> You have not set a marker in one or more of the maps. Please check and press the button again.</b>' \n",
    "    \n",
    "send_button.on_click(send_button_clicked)\n",
    "\n",
    "\n",
    "# Display user interface\n",
    "\n",
    "display(sex_question_label)\n",
    "display(sex_question)\n",
    "\n",
    "display(age_question_label)\n",
    "display(age_question)\n",
    "\n",
    "display(origin_question_label)\n",
    "display(origin_question)\n",
    "\n",
    "display(country_question_label)\n",
    "display(country_question)\n",
    "\n",
    "display(map1_label)\n",
    "display(map1)\n",
    "display(map1_coord)\n",
    "display(map1_description_label)\n",
    "display(map1_description)\n",
    "display(map1_activity_label)\n",
    "display(map1_activity)\n",
    "\n",
    "display(map2_label)\n",
    "display(map2)\n",
    "display(map2_coord)\n",
    "display(map2_description_label)\n",
    "display(map2_description)\n",
    "\n",
    "display(map3_label)\n",
    "display(map3)\n",
    "display(map3_coord)\n",
    "display(map3_question_label)\n",
    "display(map3_question)\n",
    "\n",
    "display(question11_label)\n",
    "display(question11)\n",
    "\n",
    "display(question12_label)\n",
    "display(question12)\n",
    "\n",
    "display(question13_label)\n",
    "display(question13)\n",
    "\n",
    "display(question14_label)\n",
    "display(question14)\n",
    "\n",
    "display(question15_label)\n",
    "display(question15)\n",
    "\n",
    "display(send_instructions)\n",
    "display(send_button)\n",
    "display(send_label1)\n",
    "display(send_label2)"
   ]
  }
 ],
 "metadata": {
  "hide_input": false,
  "kernelspec": {
   "display_name": "Python 3",
   "language": "python",
   "name": "python3"
  },
  "language_info": {
   "codemirror_mode": {
    "name": "ipython",
    "version": 3
   },
   "file_extension": ".py",
   "mimetype": "text/x-python",
   "name": "python",
   "nbconvert_exporter": "python",
   "pygments_lexer": "ipython3",
   "version": "3.7.3"
  }
 },
 "nbformat": 4,
 "nbformat_minor": 2
}
