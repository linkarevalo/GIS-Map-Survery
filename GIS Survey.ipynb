{
 "cells": [
  {
   "cell_type": "markdown",
   "metadata": {},
   "source": [
    "# GIS Map Survey\n",
    "Спасибо за участие в этом опросе. Пожалуйста, найдите время, чтобы ответить на несколько вопросов. Ваши ответы будут собраны анонимно и использованы для создания дискуссионных материалов форума: «ГОРОД-УНИВЕРСИТЕТ: ГЛОБАЛЬНОСТЬ VS ЛОКАЛЬНОСТЬ», а также в исследовательских целях.\n",
    "\n",
    "_Thank you for participating in this survey. Please, take a moment to answer a few questions. Your answers will be collected anonymously and used to create discussion materials for the Forum: \"City-University: Globality vs Locality,” as well as for research purposes._"
   ]
  },
  {
   "cell_type": "code",
   "execution_count": 28,
   "metadata": {
    "ExecuteTime": {
     "end_time": "2019-11-23T07:13:18.766570Z",
     "start_time": "2019-11-23T07:13:18.529255Z"
    },
    "scrolled": false
   },
   "outputs": [
    {
     "data": {
      "application/vnd.jupyter.widget-view+json": {
       "model_id": "a8871e35acae4dcf84fd66cf7043b227",
       "version_major": 2,
       "version_minor": 0
      },
      "text/plain": [
       "HTML(value='<b>1. Какой у вас пол?</b> / <i>What is your sex?</i>')"
      ]
     },
     "metadata": {},
     "output_type": "display_data"
    },
    {
     "data": {
      "application/vnd.jupyter.widget-view+json": {
       "model_id": "f4b9b8c9a3104ad2ab30bc91f1c48871",
       "version_major": 2,
       "version_minor": 0
      },
      "text/plain": [
       "RadioButtons(index=3, layout=Layout(width='initial'), options=('Мужской / Male', 'Женский / Female', 'Другой /…"
      ]
     },
     "metadata": {},
     "output_type": "display_data"
    },
    {
     "data": {
      "application/vnd.jupyter.widget-view+json": {
       "model_id": "ffcc20c624bc4d3b91f09b5b618b3e81",
       "version_major": 2,
       "version_minor": 0
      },
      "text/plain": [
       "HTML(value='<b>2. Сколько вам лет?</b> / <i>What is your age?</i>')"
      ]
     },
     "metadata": {},
     "output_type": "display_data"
    },
    {
     "data": {
      "application/vnd.jupyter.widget-view+json": {
       "model_id": "a2ac70f45d384236bec37b0005ab299c",
       "version_major": 2,
       "version_minor": 0
      },
      "text/plain": [
       "Dropdown(options=('Нет ответа / No answer', 15, 16, 17, 18, 19, 20, 21, 22, 23, 24, 25, 26, 27, 28, 29, 30, 31…"
      ]
     },
     "metadata": {},
     "output_type": "display_data"
    },
    {
     "data": {
      "application/vnd.jupyter.widget-view+json": {
       "model_id": "3aa2280fa34742d3bfbb7b1ba683cc75",
       "version_major": 2,
       "version_minor": 0
      },
      "text/plain": [
       "HTML(value='<b>3. Вы иностранный студент или русский студент?</b> / <i>Are you a foreign student or a Russian …"
      ]
     },
     "metadata": {},
     "output_type": "display_data"
    },
    {
     "data": {
      "application/vnd.jupyter.widget-view+json": {
       "model_id": "e259d948a3f346168acb5901046caf9e",
       "version_major": 2,
       "version_minor": 0
      },
      "text/plain": [
       "RadioButtons(index=2, layout=Layout(width='initial'), options=('Иностранный / Foreign', 'Русский / Russian', '…"
      ]
     },
     "metadata": {},
     "output_type": "display_data"
    },
    {
     "data": {
      "application/vnd.jupyter.widget-view+json": {
       "model_id": "65fee940aac14ec88334515fa7dc9d5d",
       "version_major": 2,
       "version_minor": 0
      },
      "text/plain": [
       "HTML(value='<b>4. Из какой вы страны?</b> / <i>What country are you from?</i>')"
      ]
     },
     "metadata": {},
     "output_type": "display_data"
    },
    {
     "data": {
      "application/vnd.jupyter.widget-view+json": {
       "model_id": "f3caa108267847d18cdd51189cf4f14c",
       "version_major": 2,
       "version_minor": 0
      },
      "text/plain": [
       "Text(value='', description='Ответ / Answer:', style=DescriptionStyle(description_width='initial'))"
      ]
     },
     "metadata": {},
     "output_type": "display_data"
    },
    {
     "data": {
      "application/vnd.jupyter.widget-view+json": {
       "model_id": "68e4a281031e4c91b4b88966133238e6",
       "version_major": 2,
       "version_minor": 0
      },
      "text/plain": [
       "HTML(value='<br/><b>5. Где вы проводите большую часть своего свободного времени? (Нажмите на карту, чтобы уста…"
      ]
     },
     "metadata": {},
     "output_type": "display_data"
    },
    {
     "data": {
      "application/vnd.jupyter.widget-view+json": {
       "model_id": "5a8897f13b534c0f9f5a963c64e188dd",
       "version_major": 2,
       "version_minor": 0
      },
      "text/plain": [
       "Map(basemap={'url': 'https://{s}.tile.openstreetmap.org/{z}/{x}/{y}.png', 'max_zoom': 19, 'attribution': 'Map …"
      ]
     },
     "metadata": {},
     "output_type": "display_data"
    },
    {
     "data": {
      "application/vnd.jupyter.widget-view+json": {
       "model_id": "0c4c59f4ab9e4c35a325aa834785ac12",
       "version_major": 2,
       "version_minor": 0
      },
      "text/plain": [
       "HTML(value='<i>Маркер не установлен / No marker set</i>')"
      ]
     },
     "metadata": {},
     "output_type": "display_data"
    },
    {
     "data": {
      "application/vnd.jupyter.widget-view+json": {
       "model_id": "9938fd4834e742e89529c1673516edd3",
       "version_major": 2,
       "version_minor": 0
      },
      "text/plain": [
       "HTML(value='<b>5.1. Пожалуйста, напишите краткое описание места. (общежитие, квартира, парк, клуб и т. д.)</b>…"
      ]
     },
     "metadata": {},
     "output_type": "display_data"
    },
    {
     "data": {
      "application/vnd.jupyter.widget-view+json": {
       "model_id": "4ca7f413a4bd43beb95cc16bd338d761",
       "version_major": 2,
       "version_minor": 0
      },
      "text/plain": [
       "Text(value='', description='Ответ / Answer:', style=DescriptionStyle(description_width='initial'))"
      ]
     },
     "metadata": {},
     "output_type": "display_data"
    },
    {
     "data": {
      "application/vnd.jupyter.widget-view+json": {
       "model_id": "db71a2090c9e46a39f921678d72d6ebd",
       "version_major": 2,
       "version_minor": 0
      },
      "text/plain": [
       "HTML(value='<b>5.2. Что вы обычно делаете в свободное время?</b> / <i>What do you usually do in your free time…"
      ]
     },
     "metadata": {},
     "output_type": "display_data"
    },
    {
     "data": {
      "application/vnd.jupyter.widget-view+json": {
       "model_id": "56ce9e440a9e48fda7111e783643d057",
       "version_major": 2,
       "version_minor": 0
      },
      "text/plain": [
       "Text(value='', description='Ответ / Answer:', style=DescriptionStyle(description_width='initial'))"
      ]
     },
     "metadata": {},
     "output_type": "display_data"
    },
    {
     "data": {
      "application/vnd.jupyter.widget-view+json": {
       "model_id": "6b3eb30cbb7d45d1b9b60fdcbc4ea56f",
       "version_major": 2,
       "version_minor": 0
      },
      "text/plain": [
       "HTML(value='<br/><b>6. Где вы выполняете большую часть академической деятельности (учеба, домашние задания), к…"
      ]
     },
     "metadata": {},
     "output_type": "display_data"
    },
    {
     "data": {
      "application/vnd.jupyter.widget-view+json": {
       "model_id": "37c494aa185545548525c28b9b302d3f",
       "version_major": 2,
       "version_minor": 0
      },
      "text/plain": [
       "Map(basemap={'url': 'https://{s}.tile.openstreetmap.org/{z}/{x}/{y}.png', 'max_zoom': 19, 'attribution': 'Map …"
      ]
     },
     "metadata": {},
     "output_type": "display_data"
    },
    {
     "data": {
      "application/vnd.jupyter.widget-view+json": {
       "model_id": "e67eb17b73624efb9dc0b2f24071c3b7",
       "version_major": 2,
       "version_minor": 0
      },
      "text/plain": [
       "HTML(value='<i>Маркер не установлен / No marker set</i>')"
      ]
     },
     "metadata": {},
     "output_type": "display_data"
    },
    {
     "data": {
      "application/vnd.jupyter.widget-view+json": {
       "model_id": "69b549000b524d828e29dab0e486590e",
       "version_major": 2,
       "version_minor": 0
      },
      "text/plain": [
       "HTML(value='<b>6.1 Пожалуйста, напишите краткое описание места.</b> / <i>Please write a brief description of t…"
      ]
     },
     "metadata": {},
     "output_type": "display_data"
    },
    {
     "data": {
      "application/vnd.jupyter.widget-view+json": {
       "model_id": "453541e313304277aeee222fd5d2ef82",
       "version_major": 2,
       "version_minor": 0
      },
      "text/plain": [
       "Text(value='', description='Ответ / Answer:', style=DescriptionStyle(description_width='initial'))"
      ]
     },
     "metadata": {},
     "output_type": "display_data"
    },
    {
     "data": {
      "application/vnd.jupyter.widget-view+json": {
       "model_id": "d8f2ee17077a44399dd9edca957667f2",
       "version_major": 2,
       "version_minor": 0
      },
      "text/plain": [
       "HTML(value='<br/><b>7. Где вы обычно встречаетесь с другими студентами, когда не посещаете занятия?</b> / <i>W…"
      ]
     },
     "metadata": {},
     "output_type": "display_data"
    },
    {
     "data": {
      "application/vnd.jupyter.widget-view+json": {
       "model_id": "e71cac0462f3438a8785e7cb9d6b869b",
       "version_major": 2,
       "version_minor": 0
      },
      "text/plain": [
       "Map(basemap={'url': 'https://{s}.tile.openstreetmap.org/{z}/{x}/{y}.png', 'max_zoom': 19, 'attribution': 'Map …"
      ]
     },
     "metadata": {},
     "output_type": "display_data"
    },
    {
     "data": {
      "application/vnd.jupyter.widget-view+json": {
       "model_id": "e3e3743921e64b1699718e54171e25a6",
       "version_major": 2,
       "version_minor": 0
      },
      "text/plain": [
       "HTML(value='<i>Маркер не установлен / No marker set</i>')"
      ]
     },
     "metadata": {},
     "output_type": "display_data"
    },
    {
     "data": {
      "application/vnd.jupyter.widget-view+json": {
       "model_id": "f7aea9d9228e4d60b1ba9a1eeee0750e",
       "version_major": 2,
       "version_minor": 0
      },
      "text/plain": [
       "HTML(value='<b>7.1 Пожалуйста, напишите краткое описание места.</b> / <i>Please write a brief description of t…"
      ]
     },
     "metadata": {},
     "output_type": "display_data"
    },
    {
     "data": {
      "application/vnd.jupyter.widget-view+json": {
       "model_id": "e4942567498f4781a8ea6240d1553585",
       "version_major": 2,
       "version_minor": 0
      },
      "text/plain": [
       "Text(value='', description='Ответ / Answer:', style=DescriptionStyle(description_width='initial'))"
      ]
     },
     "metadata": {},
     "output_type": "display_data"
    },
    {
     "data": {
      "application/vnd.jupyter.widget-view+json": {
       "model_id": "dc70259dd0fc4c81a88f527a02d9d85d",
       "version_major": 2,
       "version_minor": 0
      },
      "text/plain": [
       "HTML(value='<br/><b>8. Считаете ли вы, что российские студенты чувствуют, что Томск - удобный город для студен…"
      ]
     },
     "metadata": {},
     "output_type": "display_data"
    },
    {
     "data": {
      "application/vnd.jupyter.widget-view+json": {
       "model_id": "e68e5e9061bc472086d55a13f95be75d",
       "version_major": 2,
       "version_minor": 0
      },
      "text/plain": [
       "RadioButtons(index=2, layout=Layout(width='initial'), options=('Да / Yes', 'Нет / No', 'Нет ответа / No answer…"
      ]
     },
     "metadata": {},
     "output_type": "display_data"
    },
    {
     "data": {
      "application/vnd.jupyter.widget-view+json": {
       "model_id": "74dc3cb747d1435cb8d8cfd9cbf27672",
       "version_major": 2,
       "version_minor": 0
      },
      "text/plain": [
       "HTML(value='<b>9. Считаете ли вы, что иностранные студенты считают, что Томск - удобный город для студентов?</…"
      ]
     },
     "metadata": {},
     "output_type": "display_data"
    },
    {
     "data": {
      "application/vnd.jupyter.widget-view+json": {
       "model_id": "6bdbe141b174494597c8be9144919099",
       "version_major": 2,
       "version_minor": 0
      },
      "text/plain": [
       "RadioButtons(index=2, layout=Layout(width='initial'), options=('Да / Yes', 'Нет / No', 'Нет ответа / No answer…"
      ]
     },
     "metadata": {},
     "output_type": "display_data"
    },
    {
     "data": {
      "application/vnd.jupyter.widget-view+json": {
       "model_id": "50d93542aa4142398c2963348faec12e",
       "version_major": 2,
       "version_minor": 0
      },
      "text/plain": [
       "HTML(value='<b>10. Считаете ли вы, что важно создать специальное место для иностранных студентов в Томске?</b>…"
      ]
     },
     "metadata": {},
     "output_type": "display_data"
    },
    {
     "data": {
      "application/vnd.jupyter.widget-view+json": {
       "model_id": "4b0a08f75bf94a1cbd528763e5b3ce50",
       "version_major": 2,
       "version_minor": 0
      },
      "text/plain": [
       "RadioButtons(index=2, layout=Layout(width='initial'), options=('Да / Yes', 'Нет / No', 'Нет ответа / No answer…"
      ]
     },
     "metadata": {},
     "output_type": "display_data"
    },
    {
     "data": {
      "application/vnd.jupyter.widget-view+json": {
       "model_id": "3cbf849f76e64d57af5520a542bdf99d",
       "version_major": 2,
       "version_minor": 0
      },
      "text/plain": [
       "HTML(value='<b>11. Считаете ли вы важным создать в Томске такое место, где иностранные и российские студенты м…"
      ]
     },
     "metadata": {},
     "output_type": "display_data"
    },
    {
     "data": {
      "application/vnd.jupyter.widget-view+json": {
       "model_id": "3245521e97df4746a60f38052c0d0430",
       "version_major": 2,
       "version_minor": 0
      },
      "text/plain": [
       "RadioButtons(index=2, layout=Layout(width='initial'), options=('Да / Yes', 'Нет / No', 'Нет ответа / No answer…"
      ]
     },
     "metadata": {},
     "output_type": "display_data"
    },
    {
     "data": {
      "application/vnd.jupyter.widget-view+json": {
       "model_id": "0f758131a02f4e06a0a2fab2c79f480d",
       "version_major": 2,
       "version_minor": 0
      },
      "text/plain": [
       "HTML(value='<b>12. Вы бы способствовали созданию специального места для иностранных студентов или места встреч…"
      ]
     },
     "metadata": {},
     "output_type": "display_data"
    },
    {
     "data": {
      "application/vnd.jupyter.widget-view+json": {
       "model_id": "cebb2c1bcd4341aebfa7a43bda52f38f",
       "version_major": 2,
       "version_minor": 0
      },
      "text/plain": [
       "RadioButtons(index=2, layout=Layout(width='initial'), options=('Да / Yes', 'Нет / No', 'Нет ответа / No answer…"
      ]
     },
     "metadata": {},
     "output_type": "display_data"
    },
    {
     "data": {
      "application/vnd.jupyter.widget-view+json": {
       "model_id": "3e7669e29f25460dadc5289dbc4cc398",
       "version_major": 2,
       "version_minor": 0
      },
      "text/plain": [
       "HTML(value='<br/><i><b>Пожалуйста, нажмите кнопку ниже, чтобы отправить свои ответы. Нажав на кнопку, вы согла…"
      ]
     },
     "metadata": {},
     "output_type": "display_data"
    },
    {
     "data": {
      "application/vnd.jupyter.widget-view+json": {
       "model_id": "d4714d143d6c4267b72ee35408423fef",
       "version_major": 2,
       "version_minor": 0
      },
      "text/plain": [
       "Button(description='Отправить данные / Send data', layout=Layout(height='60px', width='auto'), style=ButtonSty…"
      ]
     },
     "metadata": {},
     "output_type": "display_data"
    },
    {
     "data": {
      "application/vnd.jupyter.widget-view+json": {
       "model_id": "3944d203171943aa94a7a95842e7dfc8",
       "version_major": 2,
       "version_minor": 0
      },
      "text/plain": [
       "HTML(value='')"
      ]
     },
     "metadata": {},
     "output_type": "display_data"
    },
    {
     "data": {
      "application/vnd.jupyter.widget-view+json": {
       "model_id": "7a0f200ccc724549aaf2f3dc360e4414",
       "version_major": 2,
       "version_minor": 0
      },
      "text/plain": [
       "HTML(value='')"
      ]
     },
     "metadata": {},
     "output_type": "display_data"
    }
   ],
   "source": [
    "from ipyleaflet import Map, Marker, LayerGroup\n",
    "from ipywidgets import Label, Button, RadioButtons, Layout, HTML, Dropdown, Text\n",
    "import gspread\n",
    "from oauth2client.service_account import ServiceAccountCredentials\n",
    "import datetime\n",
    "\n",
    "\n",
    "# Question 1 settings\n",
    "\n",
    "sex_question_label = HTML(value='<b>1. Какой у вас пол?</b> / <i>What is your sex?</i>')\n",
    "\n",
    "sex_question = RadioButtons(\n",
    "    options=['Мужской / Male', 'Женский / Female', 'Другой / Other', 'Нет ответа / No answer'],\n",
    "    value='Нет ответа / No answer',\n",
    "    layout={'width': 'initial'},\n",
    "    style = {'description_width': 'initial'},\n",
    "    disabled=False)\n",
    "\n",
    "# Question 2 settings\n",
    "\n",
    "age_question_label = HTML(value='<b>2. Сколько вам лет?</b> / <i>What is your age?</i>')\n",
    "\n",
    "ages = ['Нет ответа / No answer']\n",
    "ages.extend(list(range(15, 100))) \n",
    "\n",
    "age_question = Dropdown(\n",
    "    options=ages,\n",
    "    value='Нет ответа / No answer')\n",
    "\n",
    "# Question 3 settings\n",
    "\n",
    "origin_question_label = HTML(value='<b>3. Вы иностранный студент или русский студент?</b> / <i>Are you a foreign student or a Russian student?</i>')\n",
    "\n",
    "origin_question = RadioButtons(\n",
    "    options=['Иностранный / Foreign', 'Русский / Russian', 'Нет ответа / No answer'],\n",
    "    value='Нет ответа / No answer',\n",
    "    layout={'width': 'initial'},\n",
    "    style = {'description_width': 'initial'},\n",
    "    disabled=False)\n",
    "\n",
    "# Question 4 settings\n",
    "\n",
    "country_question_label = HTML(value='<b>4. Из какой вы страны?</b> / <i>What country are you from?</i>')\n",
    "\n",
    "country_question = Text(description='Ответ / Answer:', style={'description_width': 'initial'})\n",
    "\n",
    "# Map 1 (Question 5, 5.1, 5.2) settings and click handling\n",
    "\n",
    "map1_label = HTML(value = '<br/><b>5. Где вы проводите большую часть своего свободного времени? (Нажмите на карту, чтобы установить маркер)</b> / <i>Where do you spend most of your free time? (Click on the map to set a marker)</i>')\n",
    "\n",
    "layer_group1 = LayerGroup()\n",
    "\n",
    "center = (56.4971944, 84.9837908)\n",
    "\n",
    "map1 = Map(center=center, zoom=12,\n",
    "        dragging=True,\n",
    "        scroll_wheel_zoom=True)\n",
    "\n",
    "map1.layout.width = '70%'\n",
    "map1.layout.height = '650px'\n",
    "\n",
    "map1_coord = HTML(value='<i>Маркер не установлен / No marker set</i>')\n",
    "\n",
    "map1_description_label = HTML(value = '<b>5.1. Пожалуйста, напишите краткое описание места. (общежитие, квартира, парк, клуб и т. д.)</b> / <i>Please write a brief description of the place (dormitory, apartment, park, club, etc.)</i>')\n",
    "map1_description = Text(description='Ответ / Answer:', style={'description_width': 'initial'})\n",
    "\n",
    "map1_activity_label = HTML(value = '<b>5.2. Что вы обычно делаете в свободное время?</b> / <i>What do you usually do in your free time? Write a short description below.</i>')\n",
    "map1_activity = Text(description='Ответ / Answer:', style={'description_width': 'initial'})\n",
    "\n",
    "def handle_click1(**kwargs):\n",
    "    if kwargs.get('type') == 'click':\n",
    "        layer_group1.clear_layers()\n",
    "        map1_coord.value = str(kwargs.get('coordinates'))\n",
    "        point = Marker(location=kwargs.get('coordinates'))\n",
    "        layer_group1.add_layer(point)\n",
    "        try:\n",
    "            map1.add_layer(layer_group1)\n",
    "        except:\n",
    "            pass\n",
    "\n",
    "map1.on_interaction(handle_click1)\n",
    "\n",
    "\n",
    "# Map 2 (Question 6, 6.1) settings and click handling\n",
    "\n",
    "map2_label = HTML(value = '<br/><b>6. Где вы выполняете большую часть академической деятельности (учеба, домашние задания), когда вы не посещаете занятия?</b> / <i>Where do you perform most of academic activities (studying, homework), when you are not taking classes? (Click on the map to set a marker)</i>')\n",
    "\n",
    "layer_group2 = LayerGroup()\n",
    "\n",
    "map2 = Map(center=center, zoom=12,\n",
    "        dragging=True,\n",
    "        scroll_wheel_zoom=True)\n",
    "\n",
    "map2.layout.width = '70%'\n",
    "map2.layout.height = '650px'\n",
    "\n",
    "map2_coord = HTML(value='<i>Маркер не установлен / No marker set</i>')\n",
    "\n",
    "map2_description_label = HTML(value = '<b>6.1 Пожалуйста, напишите краткое описание места.</b> / <i>Please write a brief description of the place.</i>')\n",
    "map2_description = Text(description='Ответ / Answer:', style={'description_width': 'initial'})\n",
    "\n",
    "\n",
    "def handle_click2(**kwargs):\n",
    "    if kwargs.get('type') == 'click':\n",
    "        layer_group2.clear_layers()\n",
    "        map2_coord.value = str(kwargs.get('coordinates'))\n",
    "        point = Marker(location=kwargs.get('coordinates'))\n",
    "        layer_group2.add_layer(point)\n",
    "        try:\n",
    "            map2.add_layer(layer_group2)\n",
    "        except:\n",
    "            pass\n",
    "\n",
    "map2.on_interaction(handle_click2)\n",
    "\n",
    "\n",
    "# Map 3 (Question 7, 7.1) settings and click handling\n",
    "\n",
    "map3_label = HTML(value = '<br/><b>7. Где вы обычно встречаетесь с другими студентами, когда не посещаете занятия?</b> / <i>Where do you usually meet with other students, when you are not taking classes? (Click on the map to set a marker)</i>')\n",
    "\n",
    "layer_group3 = LayerGroup()\n",
    "\n",
    "map3 = Map(center=center, zoom=12,\n",
    "        dragging=True,\n",
    "        scroll_wheel_zoom=True)\n",
    "\n",
    "map3.layout.width = '70%'\n",
    "map3.layout.height = '650px'\n",
    "\n",
    "map3_coord = HTML(value='<i>Маркер не установлен / No marker set</i>')\n",
    "\n",
    "map3_description_label = HTML(value = '<b>7.1 Пожалуйста, напишите краткое описание места.</b> / <i>Please write a brief description of the place.</i>')\n",
    "map3_description = Text(description='Ответ / Answer:', style={'description_width': 'initial'})\n",
    "\n",
    "\n",
    "def handle_click3(**kwargs):\n",
    "    if kwargs.get('type') == 'click':\n",
    "        layer_group3.clear_layers()\n",
    "        map2_coord.value = str(kwargs.get('coordinates'))\n",
    "        point = Marker(location=kwargs.get('coordinates'))\n",
    "        layer_group3.add_layer(point)\n",
    "        try:\n",
    "            map3.add_layer(layer_group3)\n",
    "        except:\n",
    "            pass\n",
    "\n",
    "map3.on_interaction(handle_click3)\n",
    "\n",
    "\n",
    "# Question 8 settings\n",
    "\n",
    "question8_label = HTML(value='<br/><b>8. Считаете ли вы, что российские студенты чувствуют, что Томск - удобный город для студентов?</b> / <i>Do you think that Russian students feel that Tomsk is a comfortable city for students?</i>')\n",
    "\n",
    "question8 = RadioButtons(\n",
    "    options=['Да / Yes', 'Нет / No', 'Нет ответа / No answer'],\n",
    "    value='Нет ответа / No answer',\n",
    "    layout={'width': 'initial'},\n",
    "    style = {'description_width': 'initial'})\n",
    "\n",
    "# Question 9 settings\n",
    "\n",
    "question9_label = HTML(value='<b>9. Считаете ли вы, что иностранные студенты считают, что Томск - удобный город для студентов?</b> / <i>Do you think that foreign students feel that Tomsk is a comfortable city for students?</i>')\n",
    "\n",
    "question9 = RadioButtons(\n",
    "    options=['Да / Yes', 'Нет / No', 'Нет ответа / No answer'],\n",
    "    value='Нет ответа / No answer',\n",
    "    layout={'width': 'initial'},\n",
    "    style = {'description_width': 'initial'})\n",
    "\n",
    "# Question 10 settings\n",
    "\n",
    "question10_label = HTML(value='<b>10. Считаете ли вы, что важно создать специальное место для иностранных студентов в Томске?</b> / <i>Do you believe that it is important to create a special place for foreign students in Tomsk?</i>')\n",
    "\n",
    "question10 = RadioButtons(\n",
    "    options=['Да / Yes', 'Нет / No', 'Нет ответа / No answer'],\n",
    "    value='Нет ответа / No answer',\n",
    "    layout={'width': 'initial'},\n",
    "    style = {'description_width': 'initial'})\n",
    "\n",
    "# Question 11 settings\n",
    "\n",
    "question11_label = HTML(value='<b>11. Считаете ли вы важным создать в Томске такое место, где иностранные и российские студенты могут встречаться друг с другом?</b> / <i>Do you believe it is important to create a place in Tomsk where foreign and Russian students can meet each other?</i>')\n",
    "\n",
    "question11 = RadioButtons(\n",
    "    options=['Да / Yes', 'Нет / No', 'Нет ответа / No answer'],\n",
    "    value='Нет ответа / No answer',\n",
    "    layout={'width': 'initial'},\n",
    "    style = {'description_width': 'initial'})\n",
    "\n",
    "# Question 12 settings\n",
    "\n",
    "question12_label = HTML(value='<b>12. Вы бы способствовали созданию специального места для иностранных студентов или места встречи для иностранных и российских студентов?</b> / <i>Would you be willing to volunteer to help create a special place for foreign students, or a meeting place for international and Russian students?</i>')\n",
    "\n",
    "question12 = RadioButtons(\n",
    "    options=['Да / Yes', 'Нет / No', 'Нет ответа / No answer'],\n",
    "    value='Нет ответа / No answer',\n",
    "    layout={'width': 'initial'},\n",
    "    style = {'description_width': 'initial'})\n",
    "\n",
    "# Send data button settings \n",
    "\n",
    "send_instructions = HTML('<br/><i><b>Пожалуйста, нажмите кнопку ниже, чтобы отправить свои ответы. Нажав на кнопку, вы соглашаетесь позволить нам использовать ваши ответы для создания дискуссионных материалов для форума: «ГОРОД-УНИВЕРСИТЕТ: ГЛОБАЛЬНОСТЬ VS ЛОКАЛЬНОСТЬ», а также для исследовательских целей. Мы гарантируем, что ваши ответы будут обрабатываться анонимно.</b></i>' + '<br/><i>Please press the button below to send your answers. By clicking the button, you agree to let us use your answers to create discussion materials for the Forum: \"City-University: Globality vs Locality,” as well as for research purposes. We guarantee that your answers will be handled anonymously.</i>')\n",
    "\n",
    "send_label1 = HTML()\n",
    "send_label2 = HTML()\n",
    "\n",
    "send_button = Button(description='Отправить данные / Send data',\n",
    "                             layout=Layout(width='auto', height='60px'))\n",
    "\n",
    "def send_button_clicked(_):\n",
    "    send_label1.value = 'Подождите, пожалуйста ... / Please wait a moment...'\n",
    "    try:\n",
    "        new_row = [\n",
    "            str(datetime.datetime.now()).split('.')[0],\n",
    "            sex_question.value,\n",
    "            age_question.value,\n",
    "            origin_question.value,\n",
    "            country_question.value,\n",
    "            layer_group1.layers[0].location[0],\n",
    "            layer_group1.layers[0].location[1],\n",
    "            map1_description.value,\n",
    "            map1_activity.value,\n",
    "            layer_group2.layers[0].location[0],\n",
    "            layer_group2.layers[0].location[1],\n",
    "            map2_description.value,\n",
    "            layer_group3.layers[0].location[0],\n",
    "            layer_group3.layers[0].location[1],\n",
    "            map3_description.value,\n",
    "            question8.value,\n",
    "            question9.value,\n",
    "            question10.value,\n",
    "            question11.value,\n",
    "            question12.value\n",
    "        ]\n",
    "        scope = ['https://spreadsheets.google.com/feeds',\n",
    "                 'https://www.googleapis.com/auth/drive']\n",
    "        creds = ServiceAccountCredentials.from_json_keyfile_name('client_secret.json', scope)\n",
    "        client = gspread.authorize(creds)\n",
    "        sheet = client.open(\"Map_data\").sheet1\n",
    "        sheet.append_row(new_row)\n",
    "        send_label2.value = \"<b>Спасибо! Ваш ответ был записан. / Thank you! Your answer has been recorded.</b>\"\n",
    "    except:\n",
    "        send_label1.value = '<b>Вы не установили маркер на одной или нескольких картах. Пожалуйста, проверьте и нажмите кнопку еще раз. <br/> You have not set a marker in one or more of the maps. Please check and press the button again.</b>' \n",
    "    \n",
    "send_button.on_click(send_button_clicked)\n",
    "\n",
    "\n",
    "# Display user interface\n",
    "\n",
    "display(sex_question_label)\n",
    "display(sex_question)\n",
    "\n",
    "display(age_question_label)\n",
    "display(age_question)\n",
    "\n",
    "display(origin_question_label)\n",
    "display(origin_question)\n",
    "\n",
    "display(country_question_label)\n",
    "display(country_question)\n",
    "\n",
    "display(map1_label)\n",
    "display(map1)\n",
    "display(map1_coord)\n",
    "display(map1_description_label)\n",
    "display(map1_description)\n",
    "display(map1_activity_label)\n",
    "display(map1_activity)\n",
    "\n",
    "display(map2_label)\n",
    "display(map2)\n",
    "display(map2_coord)\n",
    "display(map2_description_label)\n",
    "display(map2_description)\n",
    "\n",
    "display(map3_label)\n",
    "display(map3)\n",
    "display(map3_coord)\n",
    "display(map3_description_label)\n",
    "display(map3_description)\n",
    "\n",
    "display(question8_label)\n",
    "display(question8)\n",
    "\n",
    "display(question9_label)\n",
    "display(question9)\n",
    "\n",
    "display(question10_label)\n",
    "display(question10)\n",
    "\n",
    "display(question11_label)\n",
    "display(question11)\n",
    "\n",
    "display(question12_label)\n",
    "display(question12)\n",
    "\n",
    "display(send_instructions)\n",
    "display(send_button)\n",
    "display(send_label1)\n",
    "display(send_label2)"
   ]
  },
  {
   "cell_type": "code",
   "execution_count": null,
   "metadata": {},
   "outputs": [],
   "source": []
  }
 ],
 "metadata": {
  "hide_input": false,
  "kernelspec": {
   "display_name": "Python 3",
   "language": "python",
   "name": "python3"
  },
  "language_info": {
   "codemirror_mode": {
    "name": "ipython",
    "version": 3
   },
   "file_extension": ".py",
   "mimetype": "text/x-python",
   "name": "python",
   "nbconvert_exporter": "python",
   "pygments_lexer": "ipython3",
   "version": "3.7.3"
  }
 },
 "nbformat": 4,
 "nbformat_minor": 2
}
